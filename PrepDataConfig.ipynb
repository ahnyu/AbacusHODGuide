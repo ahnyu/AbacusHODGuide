{
 "cells": [
  {
   "cell_type": "code",
   "execution_count": 2,
   "id": "bb0437cc-ed8c-4ff2-bc44-d6527d4cd85a",
   "metadata": {
    "tags": []
   },
   "outputs": [
    {
     "name": "stdout",
     "output_type": "stream",
     "text": [
      "[000000.34]  05-10 20:39  numexpr.utils                INFO     Note: detected 256 virtual cores but NumExpr set to maximum of 64, check \"NUMEXPR_MAX_THREADS\" environment variable.\n",
      "[000000.34]  05-10 20:39  numexpr.utils                INFO     Note: NumExpr detected 256 cores but \"NUMEXPR_MAX_THREADS\" not set, so enforcing safe limit of 8.\n"
     ]
    }
   ],
   "source": [
    "import yaml\n",
    "import os\n",
    "import numpy as np\n",
    "import glob\n",
    "from matplotlib import pyplot as plt\n",
    "from pycorr import TwoPointCorrelationFunction, TwoPointEstimator, NaturalTwoPointEstimator, utils, setup_logging\n",
    "setup_logging()\n",
    "import pandas as pd\n",
    "import seaborn as sns\n",
    "sns.set_theme(style=\"white\")"
   ]
  },
  {
   "cell_type": "markdown",
   "id": "87c0ad6e-f0f3-4475-b6a8-69c7af311fa0",
   "metadata": {},
   "source": [
    "# Prepare Y1 measurements"
   ]
  },
  {
   "cell_type": "code",
   "execution_count": 13,
   "id": "cfcf5af3-fd37-4459-b8fe-83003cdc7cd5",
   "metadata": {
    "tags": []
   },
   "outputs": [],
   "source": [
    "def readwp(path):\n",
    "    allcounts=TwoPointEstimator.load(path)\n",
    "    sep, wp, cov = allcounts[::2].get_corr(mode='wp',return_sep=True)\n",
    "    err=np.sqrt(np.diag(cov))\n",
    "    return wp, cov, err, allcounts"
   ]
  },
  {
   "cell_type": "code",
   "execution_count": 27,
   "id": "89c38546-b7e7-4f7f-9b1b-763c61eb408b",
   "metadata": {
    "tags": []
   },
   "outputs": [],
   "source": [
    "rpbins=np.geomspace(0.01,100,25)\n",
    "rpbinsmid=(rpbins[1:]+rpbins[:-1])/2\n",
    "rppidir='/pscratch/sd/h/hanyuz/Y1HOD/v1.4pip/rppi/' \n",
    "catdir='/global/cfs/cdirs/desi/survey/catalogs/Y1/LSS/iron/LSScats/v1.4pip/'\n",
    "measurementdir='/global/homes/h/hanyuz/AbacusHODGuide/datas/' #update path\n",
    "#measurement and covmat root name\n",
    "wpprefix = 'wp_LRG_GCcomb'\n",
    "covprefix = 'jkcov_LRG_GCcomb'"
   ]
  },
  {
   "cell_type": "markdown",
   "id": "dfb78443-7f1a-4489-885e-554382032bad",
   "metadata": {},
   "source": [
    "## read measurements"
   ]
  },
  {
   "cell_type": "code",
   "execution_count": 15,
   "id": "cda48bd2-ed8c-4659-8d7d-d4fc3bc2e73d",
   "metadata": {
    "tags": []
   },
   "outputs": [
    {
     "name": "stdout",
     "output_type": "stream",
     "text": [
      "[000667.79]  05-10 20:50  TwoPointEstimator            INFO     Loading /pscratch/sd/h/hanyuz/Y1HOD/v1.4pip/rppi/allcounts_LRG_GCcomb_0.4_0.6_pip_angular_bitwise_log_njack128_nran8_split20.npy.\n",
      "[000668.67]  05-10 20:50  TwoPointEstimator            INFO     Loading /pscratch/sd/h/hanyuz/Y1HOD/v1.4pip/rppi/allcounts_LRG_GCcomb_0.6_0.8_pip_angular_bitwise_log_njack128_nran8_split20.npy.\n",
      "[000669.43]  05-10 20:50  TwoPointEstimator            INFO     Loading /pscratch/sd/h/hanyuz/Y1HOD/v1.4pip/rppi/allcounts_LRG_GCcomb_0.8_1.1_pip_angular_bitwise_log_njack128_nran8_split20.npy.\n"
     ]
    }
   ],
   "source": [
    "l0406=readwp(rppidir+'allcounts_LRG_GCcomb_0.4_0.6_pip_angular_bitwise_log_njack128_nran8_split20.npy')\n",
    "l0608=readwp(rppidir+'allcounts_LRG_GCcomb_0.6_0.8_pip_angular_bitwise_log_njack128_nran8_split20.npy')\n",
    "l0811=readwp(rppidir+'allcounts_LRG_GCcomb_0.8_1.1_pip_angular_bitwise_log_njack128_nran8_split20.npy')"
   ]
  },
  {
   "cell_type": "markdown",
   "id": "2844a7b2-0309-45fb-8e5b-55065b3dbf04",
   "metadata": {},
   "source": [
    "## save to datas folder"
   ]
  },
  {
   "cell_type": "markdown",
   "id": "d12db128-1ded-4bd7-9b86-10b07b9e6f16",
   "metadata": {},
   "source": [
    "wp measurements, columns: rpmid, wp, jkerr"
   ]
  },
  {
   "cell_type": "code",
   "execution_count": 28,
   "id": "8945be3f-c2a6-4c5f-bc90-522a86e64022",
   "metadata": {
    "tags": []
   },
   "outputs": [],
   "source": [
    "np.savetxt(measurementdir+wpprefix+'_0.4_0.6_pip_angular_bitwise_v1.4pip.dat',np.column_stack((rpbinsmid,l0406[0],l0406[2])))\n",
    "np.savetxt(measurementdir+wpprefix+'_0.6_0.8_pip_angular_bitwise_v1.4pip.dat',np.column_stack((rpbinsmid,l0608[0],l0608[2])))\n",
    "np.savetxt(measurementdir+wpprefix+'_0.8_1.1_pip_angular_bitwise_v1.4pip.dat',np.column_stack((rpbinsmid,l0811[0],l0811[2])))"
   ]
  },
  {
   "cell_type": "markdown",
   "id": "a541bb53-1da6-4c64-9c21-69ad14e5b3b5",
   "metadata": {},
   "source": [
    "jkcovmat, better cut to the scale we want to fit, for LRG 3:21, for QSO 7:21 (only cut covmat, do not cut wp)"
   ]
  },
  {
   "cell_type": "code",
   "execution_count": 29,
   "id": "a915d9b6-f156-4184-8e67-abe45125d5ae",
   "metadata": {
    "tags": []
   },
   "outputs": [],
   "source": [
    "cutmask = np.ix_(np.arange(3, 21), np.arange(3, 21))\n",
    "np.savetxt(measurementdir+covprefix+'_0.4_0.6_pip_angular_bitwise_v1.4pip.dat',l0406[1][cutmask])\n",
    "np.savetxt(measurementdir+covprefix+'_0.6_0.8_pip_angular_bitwise_v1.4pip.dat',l0608[1][cutmask])\n",
    "np.savetxt(measurementdir+covprefix+'_0.8_1.1_pip_angular_bitwise_v1.4pip.dat',l0811[1][cutmask])"
   ]
  },
  {
   "cell_type": "markdown",
   "id": "9429e9f6-25cf-4c88-86e7-9404d544d87a",
   "metadata": {},
   "source": [
    "## n(z)"
   ]
  },
  {
   "cell_type": "code",
   "execution_count": 79,
   "id": "a74f7b8b-8387-4d47-b95a-1f5ed79a3f4b",
   "metadata": {
    "tags": []
   },
   "outputs": [],
   "source": [
    "def readnz(root,skip,maxrows):\n",
    "    ngc=np.loadtxt(root+'_NGC_nz.txt',skiprows=skip,max_rows=maxrows)\n",
    "    sgc=np.loadtxt(root+'_SGC_nz.txt',skiprows=skip,max_rows=maxrows)  \n",
    "    gccomb=(np.sum(ngc[:,-2])+np.sum(sgc[:,-2]))/(np.sum(ngc[:,-1])+np.sum(sgc[:,-1]))\n",
    "    return gccomb,0.1*gccomb"
   ]
  },
  {
   "cell_type": "code",
   "execution_count": 80,
   "id": "9a110ac4-7bc7-4be6-a377-2640a6432e0e",
   "metadata": {
    "tags": []
   },
   "outputs": [],
   "source": [
    "nzroot=catdir+'LRG'\n",
    "nz_l0406,std_l0406=readnz(nzroot,2,20)\n",
    "nz_l0608,std_l0608=readnz(nzroot,22,20)\n",
    "nz_l0811,std_l0811=readnz(nzroot,42,30)"
   ]
  },
  {
   "cell_type": "markdown",
   "id": "716bf96c-2066-4193-9509-9857191cd7c3",
   "metadata": {},
   "source": [
    "# Prepare configuration files for AbacusHOD"
   ]
  },
  {
   "cell_type": "markdown",
   "id": "6012c50d-d45d-4aef-981f-c165ba538f6f",
   "metadata": {},
   "source": [
    "## path configs"
   ]
  },
  {
   "cell_type": "code",
   "execution_count": 30,
   "id": "b9284ad0-7692-42f7-9385-c609c6473460",
   "metadata": {
    "tags": []
   },
   "outputs": [],
   "source": [
    "#path to subsamples\n",
    "subsampledir = '/pscratch/sd/h/hanyuz/Y1HOD/subsample_base_quadown/'\n",
    "#path to populate mocks\n",
    "mockoutdir = '/pscratch/sd/h/hanyuz/Y1HOD/mocks/'\n",
    "#path to measurements and covmat for fitting\n",
    "measurementdir = '/global/homes/h/hanyuz/AbacusHODGuide/datas/'\n",
    "#path to save chains and checkpoints\n",
    "chainoutdir = '/pscratch/sd/h/hanyuz/Y1HOD/chains/'\n",
    "#chains root name\n",
    "chainsprefix = 'chain_LRG_GCcomb'\n",
    "#want velocity bias? set to True only if you are fitting to wp+xi0+xi2\n",
    "want_vb = False"
   ]
  },
  {
   "cell_type": "markdown",
   "id": "973f7131-3dc0-45af-a347-3640c20808e8",
   "metadata": {},
   "source": [
    "## LRG configs"
   ]
  },
  {
   "cell_type": "code",
   "execution_count": 73,
   "id": "9a631aed-bf89-4d2c-b227-853e422e2cf3",
   "metadata": {
    "tags": []
   },
   "outputs": [],
   "source": [
    "#redshiftbins of data\n",
    "zbin = [[0.4, 0.6],[0.6, 0.8],[0.8, 1.1]]\n",
    "#redshift of simulation that used to fit the data\n",
    "zsnap = [0.5, 0.8, 1.1]\n",
    "#number density of corresponding redshiftbins\n",
    "nz = [nz_l0406,nz_l0608,nz_l0811]\n",
    "#take 10% as number density error\n",
    "stdnz=[std_l0406,std_l0608,std_l0811]\n",
    "#Initial values for velocity parameters\n",
    "#since we are fitting only wp, we could fix velocity bias parameters to SecondGen value\n",
    "#If we are fitting to wp+xi0+xi2, we dont care about the initial values since they could be free params\n",
    "alpha_c = [0.33, 0.19, 0.42] \n",
    "alpha_s = [0.80, 0.95, 0.92]"
   ]
  },
  {
   "cell_type": "code",
   "execution_count": 82,
   "id": "c93747af-062e-4fe7-8c97-d8e510b064e9",
   "metadata": {
    "tags": []
   },
   "outputs": [
    {
     "name": "stdout",
     "output_type": "stream",
     "text": [
      "Config file for run_LRG_GCcomb_0.4_0.6_pip_angular_bitwise_v1.4pip_zheng07 has been saved to /global/homes/h/hanyuz/AbacusHODGuide/configs/run_LRG_GCcomb_0.4_0.6_pip_angular_bitwise_v1.4pip_zheng07.yaml\n",
      "Config file for run_LRG_GCcomb_0.6_0.8_pip_angular_bitwise_v1.4pip_zheng07 has been saved to /global/homes/h/hanyuz/AbacusHODGuide/configs/run_LRG_GCcomb_0.6_0.8_pip_angular_bitwise_v1.4pip_zheng07.yaml\n",
      "Config file for run_LRG_GCcomb_0.8_1.1_pip_angular_bitwise_v1.4pip_zheng07 has been saved to /global/homes/h/hanyuz/AbacusHODGuide/configs/run_LRG_GCcomb_0.8_1.1_pip_angular_bitwise_v1.4pip_zheng07.yaml\n"
     ]
    }
   ],
   "source": [
    "template_config_path='configs/template_run_LRG.yaml'\n",
    "with open(template_config_path, 'r') as file:\n",
    "    template_config = yaml.safe_load(file)\n",
    "for zidx in range(3):\n",
    "    config_name = f'run_LRG_GCcomb_{zbin[zidx][0]}_{zbin[zidx][1]}_pip_angular_bitwise_v1.4pip_zheng07'\n",
    "    template_config['HOD_params']['LRG_params']['alpha_c'] = alpha_c[zidx]\n",
    "    template_config['HOD_params']['LRG_params']['alpha_s'] = alpha_s[zidx]\n",
    "    template_config['sim_params']['z_mock'] = zsnap[zidx]\n",
    "    template_config['sim_params']['output_dir'] = mockoutdir\n",
    "    template_config['data_params']['tracer_density_mean']['LRG'] = float(nz[zidx])\n",
    "    template_config['data_params']['tracer_density_std']['LRG'] = float(stdnz[zidx])\n",
    "    template_config['data_params']['tracer_combos']['LRG_LRG']['path2wp'] = measurementdir+wpprefix+f'_{zbin[zidx][0]}_{zbin[zidx][1]}_pip_angular_bitwise_v1.4pip.dat'  \n",
    "    template_config['fit_config_params']['chainsPrefix'] = chainsprefix+f'_{zbin[zidx][0]}_{zbin[zidx][1]}_pip_angular_bitwise_v1.4pip'\n",
    "    template_config['fit_config_params']['joint'] = measurementdir+covprefix+f'_{zbin[zidx][0]}_{zbin[zidx][1]}_pip_angular_bitwise_v1.4pip.dat'\n",
    "    template_config['fit_config_params']['path2output'] = chainoutdir\n",
    "    config_path = f'/global/homes/h/hanyuz/AbacusHODGuide/configs/{config_name}.yaml'#change path\n",
    "    if want_vb:\n",
    "        template_config['fit_config_params']['LRG']['alpha_c'] = [5,0,1,0.4,0.4]\n",
    "        template_config['fit_config_params']['LRG']['alpha_s'] = [6,0,2,0.8,0.4]\n",
    "        config_name+='_velbias'\n",
    "        \n",
    "    with open(config_path, 'w') as new_file:\n",
    "        yaml.safe_dump(template_config, new_file, default_flow_style=False)\n",
    "\n",
    "    print(f'Config file for {config_name} has been saved to {config_path}')  "
   ]
  },
  {
   "cell_type": "code",
   "execution_count": null,
   "id": "24fd970c-490a-4fea-a98a-e8541e31aa2f",
   "metadata": {},
   "outputs": [],
   "source": []
  }
 ],
 "metadata": {
  "kernelspec": {
   "display_name": "cosmodesi-main",
   "language": "python",
   "name": "cosmodesi-main"
  },
  "language_info": {
   "codemirror_mode": {
    "name": "ipython",
    "version": 3
   },
   "file_extension": ".py",
   "mimetype": "text/x-python",
   "name": "python",
   "nbconvert_exporter": "python",
   "pygments_lexer": "ipython3",
   "version": "3.10.13"
  }
 },
 "nbformat": 4,
 "nbformat_minor": 5
}
