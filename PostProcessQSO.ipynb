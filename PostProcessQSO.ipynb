{
 "cells": [
  {
   "cell_type": "code",
   "execution_count": 1,
   "id": "6cbf1f04-4e7f-4187-92ba-e86bb37a68e6",
   "metadata": {
    "tags": []
   },
   "outputs": [],
   "source": [
    "import numpy as np\n",
    "import h5py\n",
    "import matplotlib.pyplot as plt\n",
    "import yaml\n",
    "from nautilus import Sampler,Prior\n",
    "from abacusnbody.hod.abacus_hod import AbacusHOD\n",
    "from abacusnbody.hod.GRAND_HOD import *\n",
    "from getdist import plots, MCSamples\n",
    "import getdist\n",
    "from scipy.stats import truncnorm"
   ]
  },
  {
   "cell_type": "code",
   "execution_count": 2,
   "id": "85019276-9006-493e-ad9f-c869065280c9",
   "metadata": {
    "tags": []
   },
   "outputs": [],
   "source": [
    "%matplotlib inline"
   ]
  },
  {
   "cell_type": "markdown",
   "id": "5938b831-cf81-4d6f-a1bc-faff48fa6c39",
   "metadata": {},
   "source": [
    "# copy paste from run_nautilus code"
   ]
  },
  {
   "cell_type": "code",
   "execution_count": 7,
   "id": "78910fea-e360-46c0-8c4f-f37ce348601d",
   "metadata": {
    "jupyter": {
     "source_hidden": true
    },
    "tags": []
   },
   "outputs": [],
   "source": [
    "class wp_Data(object):\n",
    "    \"\"\"\n",
    "    Dummy object for calculating a likelihood\n",
    "    \"\"\"\n",
    "    def __init__(self, data_params, HOD_params, nrpmin = 7, nrpmax = 21, npimax = 8):\n",
    "        \"\"\"\n",
    "        Constructor of the power spectrum data\n",
    "        \"\"\"\n",
    "        num_dens_mean = {}\n",
    "        num_dens_std = {}\n",
    "        for key in HOD_params['tracer_flags'].keys():\n",
    "            if HOD_params['tracer_flags'][key]:\n",
    "                num_dens_mean[key] = data_params['tracer_density_mean'][key]\n",
    "                num_dens_std[key] = data_params['tracer_density_std'][key]\n",
    "        self.num_dens_mean = num_dens_mean\n",
    "        self.num_dens_std = num_dens_std\n",
    "\n",
    "        rpfac = 2\n",
    "        nbinrp = int(48/rpfac)\n",
    "        # load the power spectrum for all tracer combinations\n",
    "        clustering = {}\n",
    "        wpstds = {}\n",
    "        rs = {}\n",
    "        for key in data_params['tracer_combos'].keys():\n",
    "            clustering[key] = np.loadtxt(data_params['tracer_combos'][key]['path2wp'])[nrpmin:nrpmax, 1] # wp\n",
    "            wpstds[key] = np.loadtxt(data_params['tracer_combos'][key]['path2wp'])[nrpmin:nrpmax, 2] # wp\n",
    "            rs[key] = np.loadtxt(data_params['tracer_combos'][key]['path2wp'])[nrpmin:nrpmax, 0]\n",
    "        self.clustering = clustering\n",
    "        self.wpstds = wpstds\n",
    "        self.rs = rs\n",
    "\n",
    "        if 'path2cov' in data_params['tracer_combos'][key]:\n",
    "            # load the covariance matrix for all tracer combinations\n",
    "            cov = {}\n",
    "            icov = {}\n",
    "            for key in data_params['tracer_combos'].keys():\n",
    "\n",
    "                newcov = np.load(data_params['tracer_combos'][key]['path2cov'])['cov']\n",
    "                rescale = data_params['tracer_combos'][key].get('rescale', True)\n",
    "                if rescale:\n",
    "                    rescaledcov = np.zeros(newcov.shape)\n",
    "\n",
    "                    for i in range(newcov.shape[0]):\n",
    "                        for j in range(newcov.shape[1]):\n",
    "                            rescaledcov[i, j] = newcov[i, j]/np.sqrt(newcov[i, i]*newcov[j, j])*wpstds[key][i]*wpstds[key][j]\n",
    "                    cov[key] = rescaledcov\n",
    "                else:\n",
    "                    cov[key] = newcov\n",
    "                \n",
    "                icov[key] = np.linalg.inv(cov[key])\n",
    "            self.icov = icov\n",
    "            self.cov = cov\n",
    "\n",
    "\n",
    "    def compute_likelihood(self, theory_clustering, theory_density, mockcov = False, ic_down = 1, jointcov_inv = None, fullscale = True):\n",
    "        \"\"\"\n",
    "        Computes the likelihood using information from the context\n",
    "        \"\"\"\n",
    "        skiprp = 0\n",
    "        if not fullscale:\n",
    "            skiprp = 4\n",
    "            \n",
    "        lnprob = 0.\n",
    "        if jointcov_inv is None:\n",
    "            for key in self.clustering.keys():\n",
    "                delta = self.clustering[key] - theory_clustering[key][skiprp:]\n",
    "                if mockcov:\n",
    "                    lnprob += np.einsum('i,ij,j', delta, self.icov[key][skiprp:][skiprp:], delta)\n",
    "                else:\n",
    "                    lnprob += np.sum(delta**2/self.wpstds[key]**2)\n",
    "        else:\n",
    "            delta = np.concatenate([self.clustering[key] - theory_clustering[key][skiprp:] for key in np.sort(list(self.clustering.keys()))])\n",
    "            lnprob += np.einsum('i,ij,j', delta, jointcov_inv, delta)\n",
    "#        print(delta)\n",
    "        lnprob *= -0.5\n",
    "\n",
    "        # likelihood due to number density\n",
    "        for etracer in self.num_dens_mean.keys():\n",
    "            lnprob += -0.5*((self.num_dens_mean[etracer] - theory_density[etracer]*ic_down)/self.num_dens_std[etracer])**2\n",
    "\n",
    "        print(\" <><> Likelihood evaluated, lnprob = \",lnprob)\n",
    "        return lnprob\n",
    "    \n",
    "def loglike(p, sim_params, HOD_params, clustering_params, param_mapping, mytracers, Data, nthread, bounds, mockcov, jointcov_inv, fullscale):\n",
    "\n",
    "    if loaded_ball is None:\n",
    "        print('loading data')\n",
    "    Ball = load_abacus_hod_once(sim_params, HOD_params, clustering_params)\n",
    "#    print(\"evaulating \", p)\n",
    "    for tracer_type in mytracers: \n",
    "        for key in param_mapping[tracer_type].keys():\n",
    "            mapping_idx = param_mapping[tracer_type][key]\n",
    "            if key == 'logsigma':\n",
    "                Ball.tracers[tracer_type]['sigma'] = 10**p[mapping_idx].item()\n",
    "            else:\n",
    "                Ball.tracers[tracer_type][key] = p[mapping_idx].item()\n",
    "\n",
    "    # impose Mmin cut (remove unphysical HOD, help chains to converge)\n",
    "    for tracer_type in mytracers: \n",
    "        if tracer_type == 'LRG' and 10**Ball.tracers[tracer_type]['logM_cut']*Ball.tracers[tracer_type]['kappa'] < 1e12:\n",
    "#            print(\"LRG Mmin < 1e12\")\n",
    "            return -np.inf\n",
    "        elif tracer_type == 'ELG' and N_cen_ELG_v1(2e11, Ball.tracers[tracer_type]['p_max'], \n",
    "                                                   Ball.tracers[tracer_type]['Q'], \n",
    "                                                   Ball.tracers[tracer_type]['logM_cut'], \n",
    "                                                   Ball.tracers[tracer_type]['sigma'], \n",
    "                                                   Ball.tracers[tracer_type]['gamma']) > 0.01:\n",
    "#            print(\"ELG N(2e11) > 0.01\")\n",
    "            return -np.inf\n",
    "        elif tracer_type == 'QSO' and 10**Ball.tracers[tracer_type]['logM_cut']*Ball.tracers[tracer_type]['kappa'] < 2e11:\n",
    "#            print(\"QSO Mmn < 2e11\")\n",
    "            return -np.inf\n",
    "\n",
    "    # we need to determine the expected number density \n",
    "    for tracer_type in mytracers:\n",
    "        Ball.tracers[tracer_type]['ic'] = 1\n",
    "\n",
    "    ngal_dict, fsat_dict = Ball.compute_ngal(Nthread = nthread)\n",
    "\n",
    "    for tracer_type in mytracers:\n",
    "        if fsat_dict[tracer_type] > 0.6:\n",
    "            return -np.inf\n",
    "        if not tracer_type == 'ELG':\n",
    "            N_tracer = ngal_dict[tracer_type]\n",
    "            Ball.tracers[tracer_type]['ic'] = \\\n",
    "                min(1, Data.num_dens_mean[tracer_type]*Ball.params['Lbox']**3/N_tracer)\n",
    "        if tracer_type == 'ELG':\n",
    "            N_tracer = ngal_dict[tracer_type]\n",
    "            if abs(Data.num_dens_mean[tracer_type]*Ball.params['Lbox']**3/N_tracer - 1) > 1:\n",
    "                return -np.inf\n",
    "\n",
    "    mock_dict = Ball.run_hod(Ball.tracers, Ball.want_rsd, Nthread = nthread, verbose = False)\n",
    "\n",
    "    # put a satellite fraction cut\n",
    "    theory_density = {}\n",
    "    for tracer_type in mytracers:\n",
    "        if mock_dict[tracer_type]['Ncent'] < 0.4*len(mock_dict[tracer_type]['x']):\n",
    "            print(tracer_type, 'fsat > 0.6')\n",
    "            return -np.inf\n",
    "        theory_density[tracer_type] = len(mock_dict[tracer_type]['x'])/Ball.params['Lbox']**3\n",
    "\n",
    "    clustering = Ball.compute_wp(mock_dict, Ball.rpbins, Ball.pimax, Ball.pi_bin_size, Nthread = nthread)\n",
    "\n",
    "    lnP = Data.compute_likelihood(clustering, theory_density, mockcov = mockcov, jointcov_inv = jointcov_inv, fullscale = fullscale)\n",
    "\n",
    "    return lnP\n",
    "    \n",
    "def prepPrior(bounds):\n",
    "    prior = Prior()\n",
    "    for idx, bound_values in bounds:\n",
    "        if len(bound_values) == 2:  # Flat prior: [lower, upper]\n",
    "            lower, upper = bound_values\n",
    "            prior.add_parameter(dist='flat', lower=lower, upper=upper)\n",
    "        elif len(bound_values) == 4:  # Truncated normal: [lower, upper, mean, std]\n",
    "            lower, upper, mean, std = bound_values\n",
    "            a, b = (lower - mean) / std, (upper - mean) / std\n",
    "            prior.add_parameter(dist=truncnorm(a, b, loc=mean, scale=std))\n",
    "    return prior"
   ]
  },
  {
   "cell_type": "markdown",
   "id": "27277b56-e6f0-4b4d-aed3-d3f4733977e2",
   "metadata": {},
   "source": [
    "# read all config in, maybe too much, just for convenience"
   ]
  },
  {
   "cell_type": "code",
   "execution_count": 8,
   "id": "494d6231-0942-4e0a-8313-4585d23ab7e2",
   "metadata": {
    "tags": []
   },
   "outputs": [],
   "source": [
    "config = yaml.safe_load(open('configs/run_QSO_GCcomb_0.8_2.1_pip_angular_bitwise_v1.4pip_zheng07.yaml'))\n",
    "sim_params = config['sim_params']\n",
    "HOD_params = config['HOD_params']\n",
    "clustering_params = config['clustering_params']   \n",
    "data_params = config['data_params']\n",
    "fit_config_params = config['fit_config_params']\n",
    "fit_params = config['fit_params']  \n",
    "\n",
    "mockcov = fit_config_params.get('mockcov', False)\n",
    "if mockcov:\n",
    "    fit_config_params['chainsPrefix'] += '_mockcov'\n",
    "jointcov = fit_config_params.get('joint', False)\n",
    "jointcov_inv = None\n",
    "if jointcov:\n",
    "#        fit_config_params['chainsPrefix'] += '_jointmockcov'\n",
    "    jointcov_inv = np.linalg.inv(np.loadtxt(jointcov))\n",
    "\n",
    "fullscale = fit_config_params.get('fullscale', True)\n",
    "# read data parameters\n",
    "if fullscale:\n",
    "    nrpmin = 3\n",
    "else:\n",
    "    nrpmin = 7\n",
    "newData = wp_Data(data_params, HOD_params, nrpmin = nrpmin)\n",
    "\n",
    "prefix_check = fit_config_params['path2output']+fit_config_params['chainsPrefix']+'.hdf5'\n",
    "\n",
    "nparams = sum(len(v) for v in fit_params.values())\n",
    "param_mapping = {}\n",
    "bounds = []\n",
    "mytracers = []\n",
    "\n",
    "for tracertype, params in fit_params.items():\n",
    "    mytracers.append(tracertype)\n",
    "    param_mapping[tracertype] = {}\n",
    "    for param, values in params.items():\n",
    "        mapping_idx = values[0]\n",
    "        param_mapping[tracertype][param] = mapping_idx\n",
    "        # Store the entire value array, with the type inferred by the length\n",
    "        bounds.append((mapping_idx, values[1:]))\n",
    "bounds.sort()\n",
    "prior=prepPrior(bounds)"
   ]
  },
  {
   "cell_type": "markdown",
   "id": "ef6677bf-14f7-423d-89d4-5e5694f03766",
   "metadata": {},
   "source": [
    "# read abacushod object, could take a while"
   ]
  },
  {
   "cell_type": "code",
   "execution_count": 26,
   "id": "9106018a-a647-4fce-bf67-d8aa33f20092",
   "metadata": {
    "tags": []
   },
   "outputs": [],
   "source": [
    "ball_q0821 = AbacusHOD(sim_params, HOD_params, clustering_params)"
   ]
  },
  {
   "cell_type": "markdown",
   "id": "b59a1518-bb64-4610-96e3-171fb6522617",
   "metadata": {},
   "source": [
    "# Samples and triangle plot from getdist"
   ]
  },
  {
   "cell_type": "code",
   "execution_count": 3,
   "id": "0261a98f-ad81-470a-b2e3-ec02472dbbed",
   "metadata": {
    "tags": []
   },
   "outputs": [],
   "source": [
    "chaindir = '/pscratch/sd/h/hanyuz/Y1HOD/chains/'"
   ]
  },
  {
   "cell_type": "code",
   "execution_count": 5,
   "id": "1ba68db8-95cc-4f05-a4d4-ec46a4280f11",
   "metadata": {
    "tags": []
   },
   "outputs": [],
   "source": [
    "name = ['lgmc','lgm1','sigma','alpha','kappa']\n",
    "label = [r'\\log M_\\mathrm{cut}',r'\\log M_1', r'\\sigma', r'\\alpha', r'\\kappa']"
   ]
  },
  {
   "cell_type": "code",
   "execution_count": 14,
   "id": "72c700a6-3734-49a8-9aa5-144ac523e7b5",
   "metadata": {
    "tags": []
   },
   "outputs": [],
   "source": [
    "range_q={'lgmc':(bounds[0][1][0],bounds[0][1][1]),\n",
    "         'lgm1':(bounds[1][1][0],bounds[1][1][1]),\n",
    "         'sigma':(bounds[2][1][0],bounds[2][1][1]),\n",
    "         'alpha':(bounds[3][1][0],bounds[3][1][1]),\n",
    "         'kappa':(bounds[4][1][0],bounds[4][1][1])\n",
    "         }"
   ]
  },
  {
   "cell_type": "code",
   "execution_count": 4,
   "id": "02ea1c61-95db-4d33-a12b-7eed411ae870",
   "metadata": {
    "tags": []
   },
   "outputs": [],
   "source": [
    "q0821 = np.loadtxt(chaindir+'chain_QSO_GCcomb_0.8_2.1_pip_angular_bitwise_v1.4pip_converged.txt')\n",
    "q0821_samp=q0821[:,:5]\n",
    "q0821_logw=q0821[:,5]\n",
    "q0821_logl=q0821[:,6]"
   ]
  },
  {
   "cell_type": "code",
   "execution_count": 19,
   "id": "87a22d49-9561-4153-b8b0-bec51f56a505",
   "metadata": {
    "tags": []
   },
   "outputs": [
    {
     "name": "stderr",
     "output_type": "stream",
     "text": [
      "WARNING:root:outlier fraction 7.185353375679016e-06 \n"
     ]
    },
    {
     "name": "stdout",
     "output_type": "stream",
     "text": [
      "Removed no burn in\n"
     ]
    }
   ],
   "source": [
    "samp_q0821=MCSamples(samples=q0821_samp, \n",
    "                     weights=np.exp(q0821_logw), \n",
    "                     loglikes=q0821_logl,\n",
    "                     names=name, \n",
    "                     labels=label,\n",
    "                     ranges=range_q,\n",
    "                     #settings={'smooth_scale_2D':-1, 'smooth_scale_1D':-1} uncomment if you want gaussian smooth\n",
    "                    )"
   ]
  },
  {
   "cell_type": "code",
   "execution_count": null,
   "id": "1e5663a4-b397-4c44-9d84-abab43f52c8a",
   "metadata": {
    "tags": []
   },
   "outputs": [],
   "source": [
    "g = plots.get_subplot_plotter()\n",
    "g.triangle_plot([samp_q0821], filled=True, legend_labels=['z0.8~2.1 @ z1.4'])\n",
    "g.export('/global/homes/h/hanyuz/Y1HOD/plots/forPre/tri_qso_0821.png')"
   ]
  },
  {
   "cell_type": "code",
   "execution_count": null,
   "id": "7e75fba0-890a-4e19-93f7-a64ec89180ac",
   "metadata": {},
   "outputs": [],
   "source": [
    "print(samp_q0821.getMargeStats()) ## note that other parameters like fsat, blin need to recalcul"
   ]
  },
  {
   "cell_type": "code",
   "execution_count": null,
   "id": "3726976e-6c50-4072-9102-beab353c249f",
   "metadata": {},
   "outputs": [],
   "source": []
  },
  {
   "cell_type": "markdown",
   "id": "42ad2c16-d083-4f36-9ad2-6eea8cc45379",
   "metadata": {},
   "source": [
    "# convergence check, https://nautilus-sampler.readthedocs.io/en/latest/discussion/convergence.html"
   ]
  },
  {
   "cell_type": "code",
   "execution_count": 39,
   "id": "96ddf60e-9f25-44ff-9733-d57951f39326",
   "metadata": {
    "tags": []
   },
   "outputs": [
    {
     "data": {
      "image/png": "[encoded data removed]",
      "text/plain": [
       "<Figure size 640x480 with 2 Axes>"
      ]
     },
     "metadata": {},
     "output_type": "display_data"
    }
   ],
   "source": [
    "occ = sampler.shell_bound_occupation()\n",
    "\n",
    "plt.imshow(occ.T, origin='lower', cmap='Blues',\n",
    "           extent=(0.5, len(occ) + 0.5, 0.5, len(occ) + 0.5))\n",
    "plt.gca().xaxis.set_minor_locator(plt.MultipleLocator(1))\n",
    "plt.gca().yaxis.set_minor_locator(plt.MultipleLocator(1))\n",
    "plt.xlabel('Shell')\n",
    "plt.ylabel('Bound')\n",
    "cb = plt.colorbar()\n",
    "cb.set_label('Occupation Fraction')"
   ]
  },
  {
   "cell_type": "markdown",
   "id": "ff6fd146-7753-4652-ab11-78881bd763f6",
   "metadata": {},
   "source": [
    "# Linear Bias"
   ]
  },
  {
   "cell_type": "code",
   "execution_count": 21,
   "id": "37d18d74-300a-4c9b-be9b-d36385f983b9",
   "metadata": {},
   "outputs": [],
   "source": [
    "from cosmoprimo.fiducial import DESI\n",
    "from cosmoprimo import Fourier\n",
    "from scipy.optimize import leastsq"
   ]
  },
  {
   "cell_type": "code",
   "execution_count": 22,
   "id": "b9f83e0e-5522-4893-8986-6e49af22f21a",
   "metadata": {
    "tags": []
   },
   "outputs": [],
   "source": [
    "cosmo=DESI()\n",
    "fo = Fourier(cosmo, engine='class')\n",
    "pk = fo.pk_interpolator()\n",
    "xi_lin = pk.to_xi()"
   ]
  },
  {
   "cell_type": "code",
   "execution_count": 23,
   "id": "051e9341-7177-40f9-82d1-ca442738da0a",
   "metadata": {
    "tags": []
   },
   "outputs": [],
   "source": [
    "def getBias(xi0,z):\n",
    "    xilin=xi_lin(sbinsmid,z=z)\n",
    "    biasofs=np.sqrt(xi0/xilin)\n",
    "    def residuals(c,x):\n",
    "        return x-c\n",
    "    bias,flag=leastsq(residuals,2,args=(biasofs))\n",
    "    return bias[0]"
   ]
  },
  {
   "cell_type": "code",
   "execution_count": 24,
   "id": "94a92b63-f983-49be-bf68-9a2aafe24394",
   "metadata": {
    "tags": []
   },
   "outputs": [],
   "source": [
    "def assignHOD(HODparams,samp):\n",
    "    HODparams['QSO_params']['logM_cut']=samp[0]\n",
    "    HODparams['QSO_params']['logM1']=samp[1]\n",
    "    HODparams['QSO_params']['sigma']=samp[2]\n",
    "    HODparams['QSO_params']['alpha']=samp[3]\n",
    "    HODparams['QSO_params']['kappa']=samp[4]"
   ]
  },
  {
   "cell_type": "code",
   "execution_count": 27,
   "id": "5a25e7e2-e1a0-444b-af0e-c1232ad07a91",
   "metadata": {
    "tags": []
   },
   "outputs": [],
   "source": [
    "bin_params = clustering_params['bin_params']\n",
    "rpbins = np.logspace(bin_params['logmin'], bin_params['logmax'], bin_params['nbins']+1)\n",
    "pimax = clustering_params['pimax']\n",
    "pi_bin_size = clustering_params['pi_bin_size']\n",
    "rpbinsmid=(rpbins[1:]+rpbins[:-1])/2\n",
    "\n",
    "###smu setting###\n",
    "###note that linear bias value depends on the choice of sbins, we take 40~80 as an example###\n",
    "nsbins=40\n",
    "mumax=1.0\n",
    "nmubins=100\n",
    "sbins=np.linspace(40.,80.,nsbins+1)\n",
    "sbinsmid=(sbins[1:]+sbins[:-1])/2\n",
    "mubins=np.linspace(0,mumax,nmubins+1)\n",
    "dmu=mumax/nmubins"
   ]
  },
  {
   "cell_type": "code",
   "execution_count": 32,
   "id": "cec44ade-aadc-4852-8efe-e902d2c62d35",
   "metadata": {
    "tags": []
   },
   "outputs": [],
   "source": [
    "assignHOD(HOD_params,q0821_samp[np.argmax(q0821_logl)])\n",
    "mocktmp = ball_q0821.run_hod(want_rsd = True, Nthread = 256,write_to_disk=False)\n",
    "bf_wp_q0821 = ball_q0821.compute_multipole(mocktmp, rpbins, pimax, sbins, 100, Nthread = 256,orders=[0])['QSO_QSO'][:18]\n",
    "mocktmp = ball_q0821.run_hod(want_rsd = False, Nthread = 256,write_to_disk=False)\n",
    "bf_xi0_real_q0821 = ball_q0821.compute_multipole(mocktmp, rpbins, pimax, sbins, 100, Nthread = 256,orders=[0])['QSO_QSO'][18:]"
   ]
  },
  {
   "cell_type": "code",
   "execution_count": null,
   "id": "c12316cc-94c3-4419-912e-56e9547b600d",
   "metadata": {
    "tags": []
   },
   "outputs": [],
   "source": [
    "getBias(bf_xi0_real_q0821,1.49) #1.49 is the effective redshift"
   ]
  },
  {
   "cell_type": "code",
   "execution_count": 34,
   "id": "50fe9413-695e-4e9a-9726-a3668a7f0e4d",
   "metadata": {
    "tags": []
   },
   "outputs": [],
   "source": [
    "q0821_2nd=[12.2, 14.7, 0.12, 0.8, 0.6] #second gen value as and example"
   ]
  },
  {
   "cell_type": "code",
   "execution_count": 35,
   "id": "4bed451b-2765-4c1a-ba35-a78010e6bbc2",
   "metadata": {
    "tags": []
   },
   "outputs": [],
   "source": [
    "assignHOD(HOD_params,q0821_2nd)\n",
    "mocktmp = ball_q0821.run_hod(want_rsd = True, Nthread = 256,write_to_disk=False)\n",
    "edr_wp_q0821 = ball_q0821.compute_multipole(mocktmp, rpbins, pimax, sbins, 100, Nthread = 256,orders=[0])['QSO_QSO'][:18]\n",
    "mocktmp = ball_q0821.run_hod(want_rsd = False, Nthread = 256,write_to_disk=False)\n",
    "edr_xi0_real_q0821 = ball_q0821.compute_multipole(mocktmp, rpbins, pimax, sbins, 100, Nthread = 256,orders=[0])['QSO_QSO'][18:]"
   ]
  },
  {
   "cell_type": "code",
   "execution_count": 45,
   "id": "c965a101-5737-4cf6-a32f-2c7f59a1fdfd",
   "metadata": {
    "tags": []
   },
   "outputs": [],
   "source": [
    "qy10821 =np.loadtxt('datas/wp_QSO_GCcomb_0.8_2.1_pip_angular_bitwise_v1.4pip.dat')[3:-3,1:3]\n",
    "qedr0821=np.loadtxt('/pscratch/sd/h/hanyuz/Cori/SV3_HOD/measurements_edav1/wp/QSO_0821_wp.dat')[3:-3,1]"
   ]
  },
  {
   "cell_type": "code",
   "execution_count": null,
   "id": "73e6c063-8ebe-408b-8cc1-3f0aae48659b",
   "metadata": {
    "tags": []
   },
   "outputs": [],
   "source": [
    "fig, axs = plt.subplots(2,1,constrained_layout=True,sharex=True,figsize=(8,8),gridspec_kw={'height_ratios': [3, 1]})\n",
    "\n",
    "\n",
    "axs[0].errorbar(rpbinsmid,rpbinsmid*qy10821[:,0],\n",
    "                yerr=rpbinsmid*qy10821[:,1],\n",
    "                marker='o',ls='',label='z0.8~2.1',color='black')\n",
    "\n",
    "axs[0].plot(rpbinsmid,rpbinsmid*qedr0821,\n",
    "                marker='o',ls='',label='z0.8~2.1',color='black', mfc='none')\n",
    "\n",
    "axs[0].plot(rpbinsmid,rpbinsmid*bf_wp_q0821[:18],color='black')\n",
    "axs[0].plot(rpbinsmid,rpbinsmid*edr_wp_q0821[:18],color='black',ls='--')\n",
    "\n",
    "axs[0].set_xscale('log')\n",
    "axs[0].grid(linestyle='--')\n",
    "axs[1].grid(linestyle='--')\n",
    "\n",
    "axs[0].axvline(0.1, 0,170, ls='--', color='darkgray')\n",
    "    \n",
    "axs[0].annotate(r'QSO'+'\\n'+r'$b_\\mathrm{lin}=2.25$',xy=(0.05,0.85),xycoords='axes fraction',fontsize=20)\n",
    "axs[0].set_ylabel(r'$r_{\\rm p} w_{\\rm p}$',fontsize=20)\n",
    "axs[1].set_ylabel(r'$\\Delta w_{\\rm p}/w_{\\rm p}^{\\rm Y1}$',fontsize=20)  \n",
    "axs[1].set_xlabel(r'$r_{\\rm p}$',fontsize=20)\n",
    "axs[0].tick_params(labelsize=20)\n",
    "axs[1].tick_params(labelsize=20)\n",
    "\n",
    "\n",
    "axs[1].plot(rpbinsmid,(bf_wp_q0821[:18]-qy10821[:,0])/qy10821[:,0],color='black')\n",
    "axs[1].fill_between(rpbinsmid,(-qy10821[:,1])/qy10821[:,0],(qy10821[:,1])/qy10821[:,0],color='lightgray')\n",
    "axs[0].fill_between(x=np.linspace(rpbins[0],0.1,100),y1=0,y2=170,zorder=-1,hatch='\\ ',fc='white',edgecolor='dimgray')\n",
    "axs[1].fill_between(x=np.linspace(rpbins[0],0.1,100),y1=-0.2,y2=0.7,zorder=-1,hatch='\\ ',fc='white',edgecolor='dimgray')\n",
    "\n",
    "#axs[0].legend(frameon=True,fontsize=20)\n",
    "#axs[1].legend(frameon=True,fontsize=20)\n",
    "\n",
    "axs[0].set_ylim(0,170)\n",
    "axs[1].set_ylim(-0.2,0.7)\n",
    "\n",
    "axs[0].set_xlim(rpbins[0],rpbins[-3])\n",
    "axs[1].plot(rpbinsmid,np.zeros_like(rpbinsmid),ls='-.',color='black')\n",
    "fig.savefig('/global/homes/h/hanyuz/Y1HOD/plots/forPre/bf_QSO_0821.png',dpi=300,bbox_inches='tight',facecolor='white', transparent=False)\n",
    "plt.show()"
   ]
  },
  {
   "cell_type": "code",
   "execution_count": null,
   "id": "c2f3ec6e-0352-4166-a428-781e0ec2027e",
   "metadata": {},
   "outputs": [],
   "source": []
  }
 ],
 "metadata": {
  "kernelspec": {
   "display_name": "hod_guide",
   "language": "python",
   "name": "hod_guide"
  },
  "language_info": {
   "codemirror_mode": {
    "name": "ipython",
    "version": 3
   },
   "file_extension": ".py",
   "mimetype": "text/x-python",
   "name": "python",
   "nbconvert_exporter": "python",
   "pygments_lexer": "ipython3",
   "version": "3.8.19"
  }
 },
 "nbformat": 4,
 "nbformat_minor": 5
}
